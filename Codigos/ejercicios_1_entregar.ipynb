{
 "cells": [
  {
   "cell_type": "code",
   "execution_count": 1,
   "id": "7509e40f",
   "metadata": {},
   "outputs": [],
   "source": [
    "import sympy\n",
    "from sympy import *"
   ]
  },
  {
   "cell_type": "markdown",
   "id": "18a04a8e",
   "metadata": {},
   "source": [
    "## **Ejercicios 1 (códigos Sympy)**\n",
    "Métodos matemáticos para físicos\n",
    "<br>**Nombre:** Isabella María Ucrós Muñoz\n",
    "<br>**Código:** 2240675\n",
    "<br>**Grupo:** B1"
   ]
  },
  {
   "cell_type": "markdown",
   "id": "358a85dd",
   "metadata": {},
   "source": [
    "### **Taller clase 1**"
   ]
  },
  {
   "cell_type": "markdown",
   "id": "713c8bb3",
   "metadata": {},
   "source": [
    "#### **Problema #1**\n",
    "Realice un código en SymPy para el cual, dado tres vectores que formen los lbdos de un triángulo calcule el centroide"
   ]
  },
  {
   "cell_type": "code",
   "execution_count": 35,
   "id": "ecd32fe5",
   "metadata": {},
   "outputs": [
    {
     "data": {
      "text/latex": [
       "$\\displaystyle \\left[\\begin{matrix}2.0\\\\5.66666666666667\\end{matrix}\\right]$"
      ],
      "text/plain": [
       "Matrix([\n",
       "[             2.0],\n",
       "[5.66666666666667]])"
      ]
     },
     "execution_count": 35,
     "metadata": {},
     "output_type": "execute_result"
    }
   ],
   "source": [
    "a1 = Matrix([1, 5]) #Primero, elegimos las coordenadas de nuestros vértices\n",
    "a2 = Matrix([2, 8])\n",
    "a3 = Matrix([3, 4])\n",
    "\n",
    "centroide = Matrix((1/3)*(a1+a2+a3)) #NOTA: ARREGLAR LO DE QUE ESTE COSO SE EVALUE DE UNA\n",
    "centroide"
   ]
  },
  {
   "cell_type": "markdown",
   "id": "42e4b0ae",
   "metadata": {},
   "source": [
    "Para unos vectores cualesquiera introducidos por el usuario:"
   ]
  },
  {
   "cell_type": "code",
   "execution_count": null,
   "id": "b57c9dc8",
   "metadata": {},
   "outputs": [
    {
     "name": "stdout",
     "output_type": "stream",
     "text": [
      "El vector posición del triángulo cn los vértices introducidos es: \n"
     ]
    },
    {
     "data": {
      "text/latex": [
       "$\\displaystyle \\left[\\begin{matrix}1.33333333333333\\\\5.0\\\\6.33333333333333\\end{matrix}\\right]$"
      ],
      "text/plain": [
       "Matrix([\n",
       "[1.33333333333333],\n",
       "[             5.0],\n",
       "[6.33333333333333]])"
      ]
     },
     "execution_count": 3,
     "metadata": {},
     "output_type": "execute_result"
    }
   ],
   "source": [
    "vectores = {}\n",
    "\n",
    "for i in range(3):\n",
    "    nombres_vec = f\"b{i+1}\"\n",
    "    comps = input()\n",
    "    vectores[nombres_vec] = Matrix([float(x) for x in comps.split(',')])\n",
    "    \n",
    "b1 = vectores[\"b1\"]\n",
    "b2 = vectores[\"b2\"]\n",
    "b3 = vectores[\"b3\"]\n",
    "\n",
    "c = Matrix((1/3)*(b1+b2+b3))\n",
    "print(\"El vector posición del triángulo cn los vértices introducidos es: \")\n",
    "c"
   ]
  },
  {
   "cell_type": "markdown",
   "id": "75fd6bd7",
   "metadata": {},
   "source": [
    "#### **Problema #2**"
   ]
  },
  {
   "cell_type": "code",
   "execution_count": 4,
   "id": "242a76d4",
   "metadata": {},
   "outputs": [],
   "source": [
    "from sympy.vector import *"
   ]
  },
  {
   "cell_type": "code",
   "execution_count": 5,
   "id": "19fcfa8d",
   "metadata": {},
   "outputs": [],
   "source": [
    "N = CoordSys3D('N')\n",
    "e1, e2, e3 = N.i, N.j, N.k\n",
    "a = 1*e1 + 2*e2 + 3*e3\n",
    "b = 4*e1 + 5*e2 + 6*e3\n",
    "c = 3*e1 + 2*e2 + 1*e3\n",
    "d = 6*e1 + 5*e2 + 4*e3\n",
    "\n",
    "vectores2 = [a, b, c, d]\n",
    "name_vectores2 = [\"a\", \"b\", \"c\", \"d\"]"
   ]
  },
  {
   "cell_type": "markdown",
   "id": "ea2d49a5",
   "metadata": {},
   "source": [
    "##### **a).** Las sumas:"
   ]
  },
  {
   "cell_type": "code",
   "execution_count": 6,
   "id": "c4a12c19",
   "metadata": {},
   "outputs": [
    {
     "name": "stdout",
     "output_type": "stream",
     "text": [
      "el vector a+b+c+d es:\n"
     ]
    },
    {
     "data": {
      "text/latex": [
       "$\\displaystyle \\left(14\\right)\\mathbf{\\hat{i}_{N}} + \\left(14\\right)\\mathbf{\\hat{j}_{N}} + \\left(14\\right)\\mathbf{\\hat{k}_{N}}$"
      ],
      "text/plain": [
       "14*N.i + 14*N.j + 14*N.k"
      ]
     },
     "execution_count": 6,
     "metadata": {},
     "output_type": "execute_result"
    }
   ],
   "source": [
    "print(\"el vector a+b+c+d es:\")\n",
    "a+b+c+d"
   ]
  },
  {
   "cell_type": "code",
   "execution_count": 7,
   "id": "45b73797",
   "metadata": {},
   "outputs": [
    {
     "name": "stdout",
     "output_type": "stream",
     "text": [
      "el vector a+b-c-d es:\n"
     ]
    },
    {
     "data": {
      "text/latex": [
       "$\\displaystyle \\left(-4\\right)\\mathbf{\\hat{i}_{N}} + \\left(4\\right)\\mathbf{\\hat{k}_{N}}$"
      ],
      "text/plain": [
       "(-4)*N.i + 4*N.k"
      ]
     },
     "execution_count": 7,
     "metadata": {},
     "output_type": "execute_result"
    }
   ],
   "source": [
    "print(\"el vector a+b-c-d es:\")\n",
    "a+b-c-d"
   ]
  },
  {
   "cell_type": "code",
   "execution_count": 8,
   "id": "60f6309a",
   "metadata": {},
   "outputs": [
    {
     "name": "stdout",
     "output_type": "stream",
     "text": [
      "el vector a-b+c-d es:\n"
     ]
    },
    {
     "data": {
      "text/latex": [
       "$\\displaystyle \\left(-6\\right)\\mathbf{\\hat{i}_{N}} + \\left(-6\\right)\\mathbf{\\hat{j}_{N}} + \\left(-6\\right)\\mathbf{\\hat{k}_{N}}$"
      ],
      "text/plain": [
       "(-6)*N.i + (-6)*N.j + (-6)*N.k"
      ]
     },
     "execution_count": 8,
     "metadata": {},
     "output_type": "execute_result"
    }
   ],
   "source": [
    "print(\"el vector a-b+c-d es:\")\n",
    "a-b+c-d"
   ]
  },
  {
   "cell_type": "code",
   "execution_count": 9,
   "id": "49710809",
   "metadata": {},
   "outputs": [
    {
     "name": "stdout",
     "output_type": "stream",
     "text": [
      "el vector -a+b-c+d es:\n"
     ]
    },
    {
     "data": {
      "text/latex": [
       "$\\displaystyle \\left(6\\right)\\mathbf{\\hat{i}_{N}} + \\left(6\\right)\\mathbf{\\hat{j}_{N}} + \\left(6\\right)\\mathbf{\\hat{k}_{N}}$"
      ],
      "text/plain": [
       "6*N.i + 6*N.j + 6*N.k"
      ]
     },
     "execution_count": 9,
     "metadata": {},
     "output_type": "execute_result"
    }
   ],
   "source": [
    "print(\"el vector -a+b-c+d es:\")\n",
    "-a+b-c+d"
   ]
  },
  {
   "cell_type": "markdown",
   "id": "a9d8facc",
   "metadata": {},
   "source": [
    "##### **b).** El ángulo entre los vectores **a**, **b**, **c**, **d** y los vectores base **e1**, **e2**, **e3**"
   ]
  },
  {
   "cell_type": "code",
   "execution_count": 10,
   "id": "88667afb",
   "metadata": {},
   "outputs": [
    {
     "name": "stdout",
     "output_type": "stream",
     "text": [
      "El ángulo (en radianes) entre:\n",
      "   el vector a y e1 es 1.3002\n",
      "   el vector a y e2 es 1.0069\n",
      "   el vector a y e3 es 0.6405\n",
      "\n",
      "   el vector b y e1 es 1.0975\n",
      "   el vector b y e2 es 0.9645\n",
      "   el vector b y e3 es 0.8179\n",
      "\n",
      "   el vector c y e1 es 0.6405\n",
      "   el vector c y e2 es 1.0069\n",
      "   el vector c y e3 es 1.3002\n",
      "\n",
      "   el vector d y e1 es 0.8179\n",
      "   el vector d y e2 es 0.9645\n",
      "   el vector d y e3 es 1.0975\n",
      "\n"
     ]
    }
   ],
   "source": [
    "print(\"El ángulo (en radianes) entre:\")\n",
    "for idx, (v, i) in enumerate(zip(vectores2, name_vectores2), start=1):  \n",
    "    ang_e1 = acos(v.dot(N.i)/(v.magnitude()))\n",
    "    print(f\"   el vector {i} y e1 es {ang_e1.round(4)}\")\n",
    "\n",
    "    ang_e2 = acos(v.dot(N.j)/(v.magnitude()))\n",
    "    print(f\"   el vector {i} y e2 es {ang_e2.round(4)}\")\n",
    "\n",
    "    ang_e3 = acos(v.dot(N.k)/(v.magnitude()))\n",
    "    print(f\"   el vector {i} y e3 es {ang_e3.round(4)}\")\n",
    "    print()"
   ]
  },
  {
   "cell_type": "markdown",
   "id": "951b25a9",
   "metadata": {},
   "source": [
    "##### **c).** La magnitud de los vectores **a**, **b**, **c**, **d**"
   ]
  },
  {
   "cell_type": "code",
   "execution_count": 11,
   "id": "020cd51f",
   "metadata": {},
   "outputs": [
    {
     "name": "stdout",
     "output_type": "stream",
     "text": [
      "La magnitud del vector a es: sqrt(14) , lo que aproximadamente es: 3.742\n",
      "La magnitud del vector b es: sqrt(77) , lo que aproximadamente es: 8.775\n",
      "La magnitud del vector c es: sqrt(14) , lo que aproximadamente es: 3.742\n",
      "La magnitud del vector d es: sqrt(77) , lo que aproximadamente es: 8.775\n"
     ]
    }
   ],
   "source": [
    "for v, i in zip(vectores2, name_vectores2):\n",
    "    norm = v.magnitude()\n",
    "    print(f\"La magnitud del vector {i} es:\", norm, \", lo que aproximadamente es:\", norm.round(3))"
   ]
  },
  {
   "cell_type": "markdown",
   "id": "301a529f",
   "metadata": {},
   "source": [
    "##### **d).** El ángulo entre **a** y **b** y entre **c** y **d**"
   ]
  },
  {
   "cell_type": "code",
   "execution_count": 12,
   "id": "898094c6",
   "metadata": {},
   "outputs": [
    {
     "name": "stdout",
     "output_type": "stream",
     "text": [
      "El ángulo entre a y b (en radianes) es aproximadamente 0.226 . El valor exacto es:\n"
     ]
    },
    {
     "data": {
      "text/latex": [
       "$\\displaystyle \\operatorname{acos}{\\left(\\frac{16 \\sqrt{22}}{77} \\right)}$"
      ],
      "text/plain": [
       "acos(16*sqrt(22)/77)"
      ]
     },
     "execution_count": 12,
     "metadata": {},
     "output_type": "execute_result"
    }
   ],
   "source": [
    "ang_ab = acos((a.dot(b))/(a.magnitude()*b.magnitude()))\n",
    "print(\"El ángulo entre a y b (en radianes) es aproximadamente\", ang_ab.round(3), \". El valor exacto es:\")\n",
    "ang_ab"
   ]
  },
  {
   "cell_type": "code",
   "execution_count": 13,
   "id": "bbf0e0b1",
   "metadata": {},
   "outputs": [
    {
     "name": "stdout",
     "output_type": "stream",
     "text": [
      "El ángulo entre c y d (en radianes) es aproximadamente 0.226 . El valor exacto es:\n"
     ]
    },
    {
     "data": {
      "text/latex": [
       "$\\displaystyle \\operatorname{acos}{\\left(\\frac{16 \\sqrt{22}}{77} \\right)}$"
      ],
      "text/plain": [
       "acos(16*sqrt(22)/77)"
      ]
     },
     "execution_count": 13,
     "metadata": {},
     "output_type": "execute_result"
    }
   ],
   "source": [
    "ang_cd = acos((c.dot(d))/(c.magnitude()*d.magnitude()))\n",
    "print(\"El ángulo entre c y d (en radianes) es aproximadamente\", ang_ab.round(3), \". El valor exacto es:\")\n",
    "ang_ab"
   ]
  },
  {
   "cell_type": "markdown",
   "id": "73889f56",
   "metadata": {},
   "source": [
    "##### **e).** La proyección de **a** sobre **b**"
   ]
  },
  {
   "cell_type": "code",
   "execution_count": 14,
   "id": "1ca51ef9",
   "metadata": {},
   "outputs": [
    {
     "data": {
      "text/latex": [
       "$\\displaystyle \\left(\\frac{128}{77}\\right)\\mathbf{\\hat{i}_{N}} + \\left(\\frac{160}{77}\\right)\\mathbf{\\hat{j}_{N}} + \\left(\\frac{192}{77}\\right)\\mathbf{\\hat{k}_{N}}$"
      ],
      "text/plain": [
       "128/77*N.i + 160/77*N.j + 192/77*N.k"
      ]
     },
     "execution_count": 14,
     "metadata": {},
     "output_type": "execute_result"
    }
   ],
   "source": [
    "proy_b_a = (a.dot(b))/(b.magnitude())\n",
    "proy_b_a_vec = proy_b_a*(b.normalize())\n",
    "proy_b_a_vec"
   ]
  },
  {
   "cell_type": "markdown",
   "id": "ade42cfe",
   "metadata": {},
   "source": [
    "##### **f).** Si los vectores **a**, **b**, **c**, **d** son coplanares"
   ]
  },
  {
   "cell_type": "code",
   "execution_count": null,
   "id": "b4897d51",
   "metadata": {},
   "outputs": [
    {
     "data": {
      "text/latex": [
       "$\\displaystyle 0$"
      ],
      "text/plain": [
       "0"
      ]
     },
     "execution_count": 19,
     "metadata": {},
     "output_type": "execute_result"
    }
   ],
   "source": [
    "# Si se calcula el triple producto mixto, es posible establecer si los 4 vectores son coplanares. --> Si son coplanares el triple producto mixto será 0.\n",
    "(a.cross(b)).dot(c) #<-- Como el resutado dio 0, los vectores a, b y c son coplanares"
   ]
  },
  {
   "cell_type": "code",
   "execution_count": null,
   "id": "0abc0f8b",
   "metadata": {},
   "outputs": [
    {
     "data": {
      "text/latex": [
       "$\\displaystyle 0$"
      ],
      "text/plain": [
       "0"
      ]
     },
     "execution_count": 21,
     "metadata": {},
     "output_type": "execute_result"
    }
   ],
   "source": [
    "#Ahora con d:\n",
    "(a.cross(b)).dot(d) #<-- Como el resultado también dio 0"
   ]
  },
  {
   "cell_type": "markdown",
   "id": "383c11a2",
   "metadata": {},
   "source": [
    "Entonces, como el triple producto mixto entre a, b con c y d dio 0, esto es prueba para establecer de que los tres vectores viven dentro del mismo plano"
   ]
  },
  {
   "cell_type": "markdown",
   "id": "65887568",
   "metadata": {},
   "source": [
    "##### **g).** Encuentre (**a**+**b**).(**c**+**d**)"
   ]
  },
  {
   "cell_type": "code",
   "execution_count": null,
   "id": "354c2609",
   "metadata": {},
   "outputs": [
    {
     "data": {
      "text/latex": [
       "$\\displaystyle 139$"
      ],
      "text/plain": [
       "139"
      ]
     },
     "execution_count": 22,
     "metadata": {},
     "output_type": "execute_result"
    }
   ],
   "source": [
    "(a+b).dot((c+d))"
   ]
  },
  {
   "cell_type": "markdown",
   "id": "8ef124dd",
   "metadata": {},
   "source": [
    "##### **h).** Los productos **a**x**b**, **b**x**c**, **c**x**d**, y los ángulos que estos forman con d"
   ]
  },
  {
   "cell_type": "code",
   "execution_count": 25,
   "id": "7fced093",
   "metadata": {},
   "outputs": [
    {
     "data": {
      "text/latex": [
       "$\\displaystyle \\left(-3\\right)\\mathbf{\\hat{i}_{N}} + \\left(6\\right)\\mathbf{\\hat{j}_{N}} + \\left(-3\\right)\\mathbf{\\hat{k}_{N}}$"
      ],
      "text/plain": [
       "(-3)*N.i + 6*N.j + (-3)*N.k"
      ]
     },
     "execution_count": 25,
     "metadata": {},
     "output_type": "execute_result"
    }
   ],
   "source": [
    "vectores3 = []\n",
    "# a x b:\n",
    "axb=a.cross(b)\n",
    "vectores3.append(axb)\n",
    "axb"
   ]
  },
  {
   "cell_type": "code",
   "execution_count": 26,
   "id": "4b15b945",
   "metadata": {},
   "outputs": [
    {
     "data": {
      "text/latex": [
       "$\\displaystyle \\left(-7\\right)\\mathbf{\\hat{i}_{N}} + \\left(14\\right)\\mathbf{\\hat{j}_{N}} + \\left(-7\\right)\\mathbf{\\hat{k}_{N}}$"
      ],
      "text/plain": [
       "(-7)*N.i + 14*N.j + (-7)*N.k"
      ]
     },
     "execution_count": 26,
     "metadata": {},
     "output_type": "execute_result"
    }
   ],
   "source": [
    "# b x c:\n",
    "bxc=b.cross(c)\n",
    "vectores3.append(bxc)\n",
    "bxc"
   ]
  },
  {
   "cell_type": "code",
   "execution_count": 27,
   "id": "15f42a9f",
   "metadata": {},
   "outputs": [
    {
     "data": {
      "text/latex": [
       "$\\displaystyle \\left(3\\right)\\mathbf{\\hat{i}_{N}} + \\left(-6\\right)\\mathbf{\\hat{j}_{N}} + \\left(3\\right)\\mathbf{\\hat{k}_{N}}$"
      ],
      "text/plain": [
       "3*N.i + (-6)*N.j + 3*N.k"
      ]
     },
     "execution_count": 27,
     "metadata": {},
     "output_type": "execute_result"
    }
   ],
   "source": [
    "# c x d:\n",
    "cxd=c.cross(d)\n",
    "vectores3.append(cxd)\n",
    "cxd"
   ]
  },
  {
   "cell_type": "markdown",
   "id": "7f7f0099",
   "metadata": {},
   "source": [
    "Por el ejercicio anterior ya conocemos que los cuatro vectores son coplanares. Por tanto, el ángulo de todos estos productos debería ser de pi/2 [rad]"
   ]
  },
  {
   "cell_type": "code",
   "execution_count": 31,
   "id": "fe768d84",
   "metadata": {},
   "outputs": [
    {
     "name": "stdout",
     "output_type": "stream",
     "text": [
      "El ángulo entre el vector axb es:  pi/2\n",
      "El ángulo entre el vector bxc es:  pi/2\n",
      "El ángulo entre el vector cxd es:  pi/2\n"
     ]
    }
   ],
   "source": [
    "vec3_names = [\"axb\", \"bxc\", \"cxd\"]\n",
    "for v,i in zip(vectores3,vec3_names):\n",
    "    ang = acos((v.dot(d))/(v.magnitude()*d.magnitude()))\n",
    "    print(f\"El ángulo entre el vector {i} es: \",ang)"
   ]
  },
  {
   "cell_type": "markdown",
   "id": "4366a05f",
   "metadata": {},
   "source": [
    "##### **i).** Calcule c.(**a**x**b**)"
   ]
  },
  {
   "cell_type": "code",
   "execution_count": 34,
   "id": "44da15a1",
   "metadata": {},
   "outputs": [
    {
     "data": {
      "text/latex": [
       "$\\displaystyle 0$"
      ],
      "text/plain": [
       "0"
      ]
     },
     "execution_count": 34,
     "metadata": {},
     "output_type": "execute_result"
    }
   ],
   "source": [
    "c.dot((a.cross(b))) #<- El resultado deberá ser 0 dado que se comprobó que dichos vectores eran coplanares"
   ]
  },
  {
   "cell_type": "markdown",
   "id": "7f3a67c3",
   "metadata": {},
   "source": [
    "### **Taller clase 2**"
   ]
  },
  {
   "cell_type": "markdown",
   "id": "03937377",
   "metadata": {},
   "source": [
    "Para encontrar el trabajo realizado por la fuerza F dada tenemos que hacer dos integrales, una correspondiente a cada componente. Nuestra parametización, como corresponde a una circunferencia de radio 1, será conveniente trabajarla en coordenadas polares, de tal modo que x = cosθ = cost"
   ]
  },
  {
   "cell_type": "code",
   "execution_count": 46,
   "id": "20d54af0",
   "metadata": {},
   "outputs": [],
   "source": [
    "dx, dy, t = symbols('dx dy t', real=True)\n",
    "x,y = symbols('x y', real=True)\n",
    "\n",
    "Fx = (-y/( (x**2) + (y**2) ))*dx\n",
    "Fy = (x/( (x**2) + (y**2) ))*dy\n",
    "\n",
    "# Cambio de variable:\n",
    "L = [(x, cos(t)), (dx, -sin(t)) ,(y, sin(t)), (dy, cos(t))]\n",
    "e1 = Fx.subs(L)\n",
    "e2 = Fy.subs(L)"
   ]
  },
  {
   "cell_type": "markdown",
   "id": "20860e3c",
   "metadata": {},
   "source": [
    "##### integral de 0<t<pi (sentido antihorario)"
   ]
  },
  {
   "cell_type": "markdown",
   "id": "94a490f8",
   "metadata": {},
   "source": [
    "La primera integral (respecto a x) queda:"
   ]
  },
  {
   "cell_type": "code",
   "execution_count": 53,
   "id": "b5c5e2e0",
   "metadata": {},
   "outputs": [
    {
     "data": {
      "text/latex": [
       "$\\displaystyle \\int\\limits_{0}^{\\pi} \\frac{\\sin^{2}{\\left(t \\right)}}{\\sin^{2}{\\left(t \\right)} + \\cos^{2}{\\left(t \\right)}}\\, dt$"
      ],
      "text/plain": [
       "Integral(sin(t)**2/(sin(t)**2 + cos(t)**2), (t, 0, pi))"
      ]
     },
     "execution_count": 53,
     "metadata": {},
     "output_type": "execute_result"
    }
   ],
   "source": [
    "Wx1 = Integral(e1, (t, 0, pi))\n",
    "Wx1"
   ]
  },
  {
   "cell_type": "markdown",
   "id": "800880a0",
   "metadata": {},
   "source": [
    "Lo que es:"
   ]
  },
  {
   "cell_type": "code",
   "execution_count": null,
   "id": "3f87b8a4",
   "metadata": {},
   "outputs": [
    {
     "name": "stdout",
     "output_type": "stream",
     "text": [
      "Lo que es: \n"
     ]
    },
    {
     "data": {
      "text/latex": [
       "$\\displaystyle \\frac{\\pi}{2}$"
      ],
      "text/plain": [
       "pi/2"
      ]
     },
     "execution_count": 57,
     "metadata": {},
     "output_type": "execute_result"
    }
   ],
   "source": [
    "(Wx1).doit()"
   ]
  },
  {
   "cell_type": "markdown",
   "id": "a5eba463",
   "metadata": {},
   "source": [
    "La segunda integral (respecto a y) queda:"
   ]
  },
  {
   "cell_type": "code",
   "execution_count": null,
   "id": "c801d97d",
   "metadata": {},
   "outputs": [
    {
     "name": "stdout",
     "output_type": "stream",
     "text": [
      "La segunda integral (respecto a y) queda:\n"
     ]
    },
    {
     "data": {
      "text/latex": [
       "$\\displaystyle \\int\\limits_{0}^{\\pi} \\frac{\\cos^{2}{\\left(t \\right)}}{\\sin^{2}{\\left(t \\right)} + \\cos^{2}{\\left(t \\right)}}\\, dt$"
      ],
      "text/plain": [
       "Integral(cos(t)**2/(sin(t)**2 + cos(t)**2), (t, 0, pi))"
      ]
     },
     "execution_count": 61,
     "metadata": {},
     "output_type": "execute_result"
    }
   ],
   "source": [
    "Wy1 = Integral(e2, (t, 0, pi))\n",
    "Wy1"
   ]
  },
  {
   "cell_type": "markdown",
   "id": "4153e890",
   "metadata": {},
   "source": [
    "Lo que es:"
   ]
  },
  {
   "cell_type": "code",
   "execution_count": 65,
   "id": "053caac2",
   "metadata": {},
   "outputs": [
    {
     "data": {
      "text/latex": [
       "$\\displaystyle \\frac{\\pi}{2}$"
      ],
      "text/plain": [
       "pi/2"
      ]
     },
     "execution_count": 65,
     "metadata": {},
     "output_type": "execute_result"
    }
   ],
   "source": [
    "(Wy1).doit()"
   ]
  },
  {
   "cell_type": "code",
   "execution_count": 64,
   "id": "22379181",
   "metadata": {},
   "outputs": [
    {
     "name": "stdout",
     "output_type": "stream",
     "text": [
      "Por tanto, el valor total del trabajo es de: \n"
     ]
    },
    {
     "data": {
      "text/latex": [
       "$\\displaystyle \\pi$"
      ],
      "text/plain": [
       "pi"
      ]
     },
     "execution_count": 64,
     "metadata": {},
     "output_type": "execute_result"
    }
   ],
   "source": [
    "print(\"Por tanto, el valor total del trabajo es de: \")\n",
    "W1= Wx1.doit() + Wy1.doit()\n",
    "W1"
   ]
  },
  {
   "cell_type": "markdown",
   "id": "985b923b",
   "metadata": {},
   "source": [
    "##### integral de 0<t<-pi (sentido horario)"
   ]
  },
  {
   "cell_type": "markdown",
   "id": "38bf2561",
   "metadata": {},
   "source": [
    "El proceso es análogo al anterior, solo que acá cambiaremos los límites de la integral."
   ]
  },
  {
   "cell_type": "code",
   "execution_count": 66,
   "id": "78cd86d4",
   "metadata": {},
   "outputs": [
    {
     "name": "stdout",
     "output_type": "stream",
     "text": [
      "El trabajo en x siguiendo el sentido horario de la circunferencia es de:\n"
     ]
    },
    {
     "data": {
      "text/latex": [
       "$\\displaystyle - \\frac{\\pi}{2}$"
      ],
      "text/plain": [
       "-pi/2"
      ]
     },
     "execution_count": 66,
     "metadata": {},
     "output_type": "execute_result"
    }
   ],
   "source": [
    "Wx2 = Integral(e1, (t, 0, -pi))\n",
    "print(\"El trabajo en x siguiendo el sentido horario de la circunferencia es de:\")\n",
    "Wx2.doit()"
   ]
  },
  {
   "cell_type": "code",
   "execution_count": 67,
   "id": "8219ee3e",
   "metadata": {},
   "outputs": [
    {
     "name": "stdout",
     "output_type": "stream",
     "text": [
      "Mientras que en y es de:\n"
     ]
    },
    {
     "data": {
      "text/latex": [
       "$\\displaystyle - \\frac{\\pi}{2}$"
      ],
      "text/plain": [
       "-pi/2"
      ]
     },
     "execution_count": 67,
     "metadata": {},
     "output_type": "execute_result"
    }
   ],
   "source": [
    "Wy2 = Integral(e2, (t, 0, -pi))\n",
    "print(\"Mientras que en y es de:\")\n",
    "Wx2.doit()"
   ]
  },
  {
   "cell_type": "code",
   "execution_count": 68,
   "id": "e88f9e5c",
   "metadata": {},
   "outputs": [
    {
     "name": "stdout",
     "output_type": "stream",
     "text": [
      "Por tanto, el valor total del trabajo es de: \n"
     ]
    },
    {
     "data": {
      "text/latex": [
       "$\\displaystyle - \\pi$"
      ],
      "text/plain": [
       "-pi"
      ]
     },
     "execution_count": 68,
     "metadata": {},
     "output_type": "execute_result"
    }
   ],
   "source": [
    "print(\"Por tanto, el valor total del trabajo es de: \")\n",
    "W2= Wx2.doit() + Wy2.doit()\n",
    "W2"
   ]
  }
 ],
 "metadata": {
  "kernelspec": {
   "display_name": "Python 3",
   "language": "python",
   "name": "python3"
  },
  "language_info": {
   "codemirror_mode": {
    "name": "ipython",
    "version": 3
   },
   "file_extension": ".py",
   "mimetype": "text/x-python",
   "name": "python",
   "nbconvert_exporter": "python",
   "pygments_lexer": "ipython3",
   "version": "3.13.6"
  }
 },
 "nbformat": 4,
 "nbformat_minor": 5
}
